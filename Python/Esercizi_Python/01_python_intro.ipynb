{
 "cells": [
  {
   "cell_type": "code",
   "execution_count": 1,
   "metadata": {},
   "outputs": [
    {
     "data": {
      "text/plain": [
       "str"
      ]
     },
     "execution_count": 1,
     "metadata": {},
     "output_type": "execute_result"
    }
   ],
   "source": [
    "type(\"voap\")"
   ]
  },
  {
   "cell_type": "code",
   "execution_count": 2,
   "metadata": {},
   "outputs": [
    {
     "data": {
      "text/plain": [
       "type"
      ]
     },
     "execution_count": 2,
     "metadata": {},
     "output_type": "execute_result"
    }
   ],
   "source": [
    "type(int)"
   ]
  },
  {
   "cell_type": "code",
   "execution_count": 3,
   "metadata": {},
   "outputs": [
    {
     "data": {
      "text/plain": [
       "3"
      ]
     },
     "execution_count": 3,
     "metadata": {},
     "output_type": "execute_result"
    }
   ],
   "source": [
    "int(3.4)"
   ]
  },
  {
   "cell_type": "code",
   "execution_count": 7,
   "metadata": {},
   "outputs": [
    {
     "data": {
      "text/plain": [
       "'hello there vincenzovincenzovincenzo'"
      ]
     },
     "execution_count": 7,
     "metadata": {},
     "output_type": "execute_result"
    }
   ],
   "source": [
    "hi=\"hello there\"\n",
    "hi2='Ciao di nuovo'\n",
    "name='vincenzo'\n",
    "greet= hi + name\n",
    "greeting = hi + \" \" + name\n",
    "silly = hi + \" \" + name *3\n",
    "\n",
    "silly"
   ]
  },
  {
   "cell_type": "code",
   "execution_count": 10,
   "metadata": {},
   "outputs": [
    {
     "data": {
      "text/plain": [
       "False"
      ]
     },
     "execution_count": 10,
     "metadata": {},
     "output_type": "execute_result"
    }
   ],
   "source": [
    "silly == hi"
   ]
  },
  {
   "cell_type": "code",
   "execution_count": 13,
   "metadata": {},
   "outputs": [
    {
     "name": "stdout",
     "output_type": "stream",
     "text": [
      "n\n",
      "p\n",
      "i\n",
      "i\n"
     ]
    }
   ],
   "source": [
    "s = \"napoli\"\n",
    "print(s[0])\n",
    "print(s[2])\n",
    "print(s[5])\n",
    "#print(s[6]) out of bound\n",
    "print(s[-1])\n"
   ]
  },
  {
   "cell_type": "code",
   "execution_count": 18,
   "metadata": {},
   "outputs": [
    {
     "data": {
      "text/plain": [
       "'ol'"
      ]
     },
     "execution_count": 18,
     "metadata": {},
     "output_type": "execute_result"
    }
   ],
   "source": [
    "s[3:5]"
   ]
  },
  {
   "cell_type": "code",
   "execution_count": 19,
   "metadata": {},
   "outputs": [
    {
     "data": {
      "text/plain": [
       "'napoli'"
      ]
     },
     "execution_count": 19,
     "metadata": {},
     "output_type": "execute_result"
    }
   ],
   "source": [
    "s[::]"
   ]
  },
  {
   "cell_type": "code",
   "execution_count": 20,
   "metadata": {},
   "outputs": [
    {
     "data": {
      "text/plain": [
       "'ilopan'"
      ]
     },
     "execution_count": 20,
     "metadata": {},
     "output_type": "execute_result"
    }
   ],
   "source": [
    "s[::-1]"
   ]
  },
  {
   "cell_type": "code",
   "execution_count": 23,
   "metadata": {},
   "outputs": [
    {
     "data": {
      "text/plain": [
       "'japoli'"
      ]
     },
     "execution_count": 23,
     "metadata": {},
     "output_type": "execute_result"
    }
   ],
   "source": [
    "## Le stringhe sono immutabili\n",
    "s=\"Napoli\"\n",
    "#s[0]='j' # ERRORE, non consentito\n",
    "s = 'j' + s[1:len(s)] #OK, s è bindato ad un nuovo oggetto (concatenazione)\n",
    "s\n"
   ]
  },
  {
   "cell_type": "code",
   "execution_count": 29,
   "metadata": {},
   "outputs": [
    {
     "name": "stdout",
     "output_type": "stream",
     "text": [
      "20\n",
      "my fav num is 20 . x = 20\n",
      "my fav num is 20 . x = 20\n"
     ]
    }
   ],
   "source": [
    "#print() example\n",
    "x=20\n",
    "print(x)\n",
    "x_str = str(x)\n",
    "print(\"my fav num is\", x, \".\", \"x =\", x)\n",
    "print(\"my fav num is \" + x_str + \" . \" + \"x = \" + x_str)"
   ]
  },
  {
   "cell_type": "code",
   "execution_count": 30,
   "metadata": {},
   "outputs": [
    {
     "name": "stdout",
     "output_type": "stream",
     "text": [
      "Forza NapoliForza NapoliForza NapoliForza NapoliForza Napoli\n",
      "100\n"
     ]
    }
   ],
   "source": [
    "#input() example\n",
    "text = input(\"Scrivi qualcosa... \")\n",
    "print(5*text)\n",
    "\n",
    "num = int(input(\"Type a number...\"))\n",
    "print(5*num)"
   ]
  },
  {
   "cell_type": "code",
   "execution_count": 31,
   "metadata": {},
   "outputs": [
    {
     "name": "stdout",
     "output_type": "stream",
     "text": [
      "x e y sono uguali\n",
      "oltretutto, x/y vale 1.0\n",
      "grazie!\n"
     ]
    }
   ],
   "source": [
    "#Controllo di flusso, if-then-else\n",
    "\n",
    "x=float(input(\"Inserisci un numero per x: \"))\n",
    "y=float(input(\"Inserisci un numero per y: \"))\n",
    "\n",
    "if x==y:\n",
    "    print(\"x e y sono uguali\")\n",
    "    if y!=0:\n",
    "        print(\"oltretutto, x/y vale\", x/y)\n",
    "\n",
    "elif x<y:\n",
    "    print(\"x è minore\")\n",
    "\n",
    "else:\n",
    "    print(\"y è minore\")\n",
    "\n",
    "print(\"grazie!\")"
   ]
  },
  {
   "cell_type": "code",
   "execution_count": 32,
   "metadata": {},
   "outputs": [
    {
     "name": "stdout",
     "output_type": "stream",
     "text": [
      "Dai sei finito tra le vrenzole di Mergellina\n"
     ]
    }
   ],
   "source": [
    "#Costrutto ciclico: WHILE\n",
    "\n",
    "n=input(\"Ti trovi dispero a via Claudio. Vuoi andare verso sinistra o verso desta? \")\n",
    "while n == \"sinistra\":\n",
    "    n=input(\"Guarda che lì c'è la creatura dell'italsider. Vuoi andare a destra o a sinistra?\")\n",
    "print(\"Dai sei finito tra le vrenzole di Mergellina\")"
   ]
  },
  {
   "cell_type": "code",
   "execution_count": 33,
   "metadata": {},
   "outputs": [
    {
     "name": "stdout",
     "output_type": "stream",
     "text": [
      "primo approccio\n",
      "\n",
      "0\n",
      "1\n",
      "2\n",
      "3\n",
      "4\n",
      "secondo approccio\n",
      "\n",
      "0\n",
      "1\n",
      "2\n",
      "3\n",
      "4\n"
     ]
    }
   ],
   "source": [
    "# Obiettivo: iterare su un insieme di numeri in una sequenza\n",
    "n=0\n",
    "#più complicato con un ciclo while n=0\n",
    "print(\"primo approccio\\n\")\n",
    "while n<5:\n",
    "    print(n)\n",
    "    n = n+1\n",
    "print\n",
    "print(\"secondo approccio\\n\")\n",
    "for n in range(5):\n",
    "    print(n)"
   ]
  },
  {
   "cell_type": "code",
   "execution_count": 35,
   "metadata": {},
   "outputs": [
    {
     "name": "stdout",
     "output_type": "stream",
     "text": [
      "Prima my sum: 24\n",
      "5\n",
      "12\n",
      "Seconda mysum: 12\n"
     ]
    }
   ],
   "source": [
    "\"\"\"\n",
    "    Costrutto ciclico: FOR\n",
    "    for <variabile> in range(<numeri>):\n",
    "        <espressione>\n",
    "        <espression>\n",
    "        ...\n",
    "\"\"\"\n",
    "mysum=0\n",
    "for i in range(7, 10):\n",
    "    mysum += i\n",
    "print(\"Prima my sum: \" +str(mysum))\n",
    "\n",
    "mysum=0\n",
    "for i in range(5, 11, 2):\n",
    "    mysum += i\n",
    "    print(mysum)\n",
    "    if(mysum == 12):\n",
    "        break\n",
    "        mysum += 1\n",
    "\n",
    "print(\"Seconda mysum: \" + str(mysum))"
   ]
  },
  {
   "cell_type": "code",
   "execution_count": 37,
   "metadata": {},
   "outputs": [
    {
     "name": "stdout",
     "output_type": "stream",
     "text": [
      "-25 non è un quadrato perfetto\n",
      "Sto controllando...intendevi 25 ?\n"
     ]
    }
   ],
   "source": [
    "#EXAMPLE: perfect squares\n",
    "\n",
    "ans = 0\n",
    "neg_flag = False\n",
    "x = int(input(\"Inserisci un integer: \"))\n",
    "if x<0:\n",
    "    neg_flag = True\n",
    "while ans**2 < x:\n",
    "    ans = ans + 1\n",
    "if ans**2 == x:\n",
    "    print(\"La radice quadrata di\", x, \"è\", ans)\n",
    "else:\n",
    "    print(x, \"non è un quadrato perfetto\")\n",
    "    if neg_flag:\n",
    "        print(\"Sto controllando...intendevi\", -x, \"?\")"
   ]
  },
  {
   "cell_type": "code",
   "execution_count": 38,
   "metadata": {},
   "outputs": [
    {
     "name": "stdout",
     "output_type": "stream",
     "text": [
      "C'è una 'i' o una 'u'\n",
      "C'è una i o una u\n"
     ]
    }
   ],
   "source": [
    "# EXAMPLE: for loops over strings\n",
    "s=\"ciao\"\n",
    "for index in range(len(s)):\n",
    "    if s[index] == \"i\" or s[index] == 'u':\n",
    "        print(\"C'è una 'i' o una 'u'\")\n",
    "\n",
    "for char in s:\n",
    "    if char == 'i' or char =='u':\n",
    "        print(\"C'è una i o una u\")"
   ]
  },
  {
   "cell_type": "code",
   "execution_count": 40,
   "metadata": {},
   "outputs": [
    {
     "name": "stdout",
     "output_type": "stream",
     "text": [
      "Give me a V! V\n",
      "Give me an L! L\n",
      "Give me a B! B\n",
      "Come si scrive?\n",
      "VLB !!!\n",
      "VLB !!!\n",
      "VLB !!!\n",
      "VLB !!!\n",
      "VLB !!!\n",
      "VLB !!!\n",
      "VLB !!!\n",
      "VLB !!!\n",
      "VLB !!!\n",
      "VLB !!!\n"
     ]
    }
   ],
   "source": [
    "# EXAMPLE: while loops and strings\n",
    "\n",
    "an_letters = \"aefhilmnorsxAEDHILMNORSX\"\n",
    "word = input(\"Faro il tifo per te! Inserisci una parola\")\n",
    "times = int(input(\"Livello di entusiasmo (1-10): \"))\n",
    "\n",
    "i=0\n",
    "for char in word:\n",
    "    if char in an_letters:\n",
    "        print(\"Give me an \" + char + \"! \" + char)\n",
    "    else:\n",
    "        print(\"Give me a \"+char+\"! \"+char)\n",
    "\n",
    "print(\"Come si scrive?\")\n",
    "for i in range(times):\n",
    "    print(word, \"!!!\")"
   ]
  }
 ],
 "metadata": {
  "kernelspec": {
   "display_name": "Python 3",
   "language": "python",
   "name": "python3"
  },
  "language_info": {
   "codemirror_mode": {
    "name": "ipython",
    "version": 3
   },
   "file_extension": ".py",
   "mimetype": "text/x-python",
   "name": "python",
   "nbconvert_exporter": "python",
   "pygments_lexer": "ipython3",
   "version": "3.11.3"
  },
  "orig_nbformat": 4
 },
 "nbformat": 4,
 "nbformat_minor": 2
}
