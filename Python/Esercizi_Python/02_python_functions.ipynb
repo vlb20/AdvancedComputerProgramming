{
 "cells": [
  {
   "cell_type": "code",
   "execution_count": 5,
   "metadata": {},
   "outputs": [
    {
     "name": "stdout",
     "output_type": "stream",
     "text": [
      "is_even_with_return(3)\n",
      "with return\n",
      "print(is_even_with_return(3) )\n",
      "with return\n",
      "False\n",
      "\n",
      "\n",
      "without return\n",
      "without return\n",
      "None\n",
      "Tutti i numerti tra 0 e 20: pari o dispari\n",
      "0 pari\n",
      "1 dispari\n",
      "2 pari\n",
      "3 dispari\n",
      "4 pari\n",
      "5 dispari\n",
      "6 pari\n",
      "7 dispari\n",
      "8 pari\n",
      "9 dispari\n",
      "10 pari\n",
      "11 dispari\n",
      "12 pari\n",
      "13 dispari\n",
      "14 pari\n",
      "15 dispari\n",
      "16 pari\n",
      "17 dispari\n",
      "18 pari\n",
      "19 dispari\n"
     ]
    }
   ],
   "source": [
    "#EXAMPLE: combination of print and return\n",
    "\n",
    "def is_even_with_return(i):\n",
    "    #Input: i, un intero positivo\n",
    "    #Ritorna True se i è pari, altrimenti False\n",
    "\n",
    "    print('with return')\n",
    "    remainder = i % 2\n",
    "    return remainder == 0\n",
    "\n",
    "print(\"is_even_with_return(3)\")\n",
    "is_even_with_return(3)\n",
    "print(\"print(is_even_with_return(3) )\")\n",
    "print(is_even_with_return(3))\n",
    "\n",
    "print(\"\\n\")\n",
    "\n",
    "def is_even_without_return(i):\n",
    "    #Input: i, un intero positivo\n",
    "    #Non ritorna niente\n",
    "\n",
    "    print('without return')\n",
    "    remainder = i%2\n",
    "\n",
    "is_even_without_return(3)\n",
    "print(is_even_without_return(3))\n",
    "\n",
    "#Simple is_even function definition\n",
    "def is_even(i):\n",
    "    #Input: i, un intero positivo\n",
    "    #ritorna True se i è èari, altrimenti False\n",
    "\n",
    "    remainder = i%2\n",
    "    return remainder==0\n",
    "\n",
    "#Uso la funzion nel codice\n",
    "print(\"Tutti i numerti tra 0 e 20: pari o dispari\")\n",
    "for i in range(20):\n",
    "    if is_even(i):\n",
    "        print(i, \"pari\")\n",
    "    else:\n",
    "        print(i, \"dispari\")"
   ]
  },
  {
   "cell_type": "code",
   "execution_count": 6,
   "metadata": {},
   "outputs": [
    {
     "name": "stdout",
     "output_type": "stream",
     "text": [
      "0.998046875 is close to cube root of 1\n",
      "2.154541015625 is close to cube root of 10\n",
      "4.6417236328125 is close to cube root of 100\n",
      "9.999990463256836 is close to cube root of 1000\n",
      "21.54434099793434 is close to cube root of 10000\n"
     ]
    }
   ],
   "source": [
    "#EXAMPLE: applicare funzioni per ripetere un task varie volte\n",
    "def bisection_cuberoot_approx(x, epsilon):\n",
    "    #Input: x, un intero\n",
    "    #Utilizza la bisezione per approssimare la radice cubica di x entro epsilon\n",
    "    #Restituisce: un float che approssima la radice cubica di x\n",
    "\n",
    "    low = 0.0\n",
    "    high = x\n",
    "    guess = (high + low)/2.0\n",
    "    while abs(guess**3 - x) >= epsilon:\n",
    "        if guess**3 < x:\n",
    "            low = guess\n",
    "        else:\n",
    "            high = guess\n",
    "        guess = (high + low)/2.0\n",
    "    return guess\n",
    "\n",
    "x=1\n",
    "while x <= 10000:\n",
    "    approx=bisection_cuberoot_approx(x, 0.01)\n",
    "    print(approx, \"is close to cube root of\", x)\n",
    "    x *= 10"
   ]
  },
  {
   "cell_type": "code",
   "execution_count": 7,
   "metadata": {},
   "outputs": [
    {
     "name": "stdout",
     "output_type": "stream",
     "text": [
      "inside func_a\n",
      "None\n",
      "inside func_b\n",
      "7\n",
      "inside func_c\n",
      "inside func_a\n",
      "None\n"
     ]
    }
   ],
   "source": [
    "## EXAMPLE: functions as arguments\n",
    "\n",
    "def func_a():\n",
    "    print('inside func_a')\n",
    "\n",
    "def func_b(y):\n",
    "    print('inside func_b')\n",
    "    return y\n",
    "\n",
    "def func_c(z):\n",
    "    print('inside func_c')\n",
    "    return z()\n",
    "\n",
    "print(func_a())\n",
    "print(5+func_b(2))\n",
    "print(func_c(func_a))"
   ]
  },
  {
   "cell_type": "code",
   "execution_count": 8,
   "metadata": {},
   "outputs": [
    {
     "name": "stdout",
     "output_type": "stream",
     "text": [
      "7\n"
     ]
    }
   ],
   "source": [
    "#EXAMPLE: ritorna functiono objects\n",
    "def f():\n",
    "    def x(a, b):\n",
    "        return a+b\n",
    "    return x\n",
    "\n",
    "val = f()(3,4)\n",
    "print(val)"
   ]
  },
  {
   "cell_type": "code",
   "execution_count": 11,
   "metadata": {},
   "outputs": [
    {
     "name": "stdout",
     "output_type": "stream",
     "text": [
      "2\n",
      "5\n",
      "\n",
      "\n",
      "5\n",
      "6\n",
      "5\n",
      "\n",
      "\n",
      "5\n"
     ]
    }
   ],
   "source": [
    "# EXAMPLE: shows accessing variables outside scope\n",
    "def f(y):\n",
    "    x = 1\n",
    "    x += 1\n",
    "    print(x)\n",
    "x = 5\n",
    "f(x)\n",
    "print(x)\n",
    "print(\"\\n\")\n",
    "\n",
    "def g(y):\n",
    "    print(x)\n",
    "    print(x+1)\n",
    "\n",
    "x = 5\n",
    "g(x)\n",
    "print(x)\n",
    "\n",
    "print(\"\\n\")\n",
    "def h(y):\n",
    "    pass\n",
    "    #x += 1 #leads to an error without line `global x` inside h\n",
    "x = 5\n",
    "h(x) #non stampa niente\n",
    "print(x)\n",
    "\n"
   ]
  },
  {
   "cell_type": "code",
   "execution_count": 12,
   "metadata": {},
   "outputs": [
    {
     "name": "stdout",
     "output_type": "stream",
     "text": [
      "in g(x): x = 4\n"
     ]
    }
   ],
   "source": [
    "## EXAMPLE: hader scope example from slides\n",
    "def g(x):\n",
    "    def h():\n",
    "        x = 'abc'\n",
    "    x = x + 1\n",
    "    print('in g(x): x =', x)\n",
    "    h()\n",
    "    return x\n",
    "\n",
    "x = 3\n",
    "z = g(x)"
   ]
  },
  {
   "cell_type": "code",
   "execution_count": 13,
   "metadata": {},
   "outputs": [
    {
     "name": "stdout",
     "output_type": "stream",
     "text": [
      "in f(x): x = 4\n",
      "in main program scope: z = 4\n",
      "in main program scope: x = 3\n",
      "in g(x): x =  4\n",
      "in h(x): x =  5\n",
      "in main program scope: x =  3\n",
      "in main program scope: z =  4\n"
     ]
    }
   ],
   "source": [
    "## EXAMPLE: complicated scope, test yourself!\n",
    "\n",
    "def f(x):\n",
    "    x = x + 1\n",
    "    print('in f(x): x =', x)\n",
    "    return x\n",
    "\n",
    "x = 3\n",
    "z = f(x)\n",
    "print('in main program scope: z =', z)\n",
    "print('in main program scope: x =', x)\n",
    "\n",
    "def g(x):\n",
    "    def h(x):\n",
    "        x = x+1\n",
    "        print(\"in h(x): x = \", x)\n",
    "    x = x + 1\n",
    "    print('in g(x): x = ', x)\n",
    "    h(x)\n",
    "    return x\n",
    "\n",
    "x = 3\n",
    "z = g(x)\n",
    "print('in main program scope: x = ', x)\n",
    "print('in main program scope: z = ', z)"
   ]
  }
 ],
 "metadata": {
  "kernelspec": {
   "display_name": "Python 3",
   "language": "python",
   "name": "python3"
  },
  "language_info": {
   "codemirror_mode": {
    "name": "ipython",
    "version": 3
   },
   "file_extension": ".py",
   "mimetype": "text/x-python",
   "name": "python",
   "nbconvert_exporter": "python",
   "pygments_lexer": "ipython3",
   "version": "3.11.3"
  },
  "orig_nbformat": 4
 },
 "nbformat": 4,
 "nbformat_minor": 2
}
